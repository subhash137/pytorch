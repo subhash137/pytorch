{
 "cells": [
  {
   "cell_type": "code",
   "execution_count": 303,
   "metadata": {},
   "outputs": [],
   "source": [
    "import torch\n",
    "import matplotlib.pyplot as plt\n",
    "import torch.nn as nn"
   ]
  },
  {
   "cell_type": "code",
   "execution_count": 304,
   "metadata": {},
   "outputs": [],
   "source": [
    "device = \"gpu\" if torch.cuda.is_available() else \"cpu\""
   ]
  },
  {
   "attachments": {},
   "cell_type": "markdown",
   "metadata": {},
   "source": [
    "torch.nn.Linear(in_features, out_features, bias=True, device=None, dtype=None)"
   ]
  },
  {
   "cell_type": "code",
   "execution_count": 305,
   "metadata": {},
   "outputs": [],
   "source": [
    "class LinearRegressionModelv2(nn.Module):\n",
    "    def __init__(self):\n",
    "        super().__init__()\n",
    "        self.linear_layer = nn.Linear(in_features=1,out_features=1  )\n",
    "       \n",
    "    def  forward(self,x : torch.Tensor) -> torch.Tensor:\n",
    "        return self.linear_layer(x)\n",
    "    \n",
    "def plotting(x,y,predictions = None):\n",
    "    plt.scatter(x,y,c = \"r\")\n",
    "    if predictions is not None:\n",
    "        plt.scatter(x,predictions,c = \"b\")\n",
    "\n"
   ]
  },
  {
   "cell_type": "code",
   "execution_count": 306,
   "metadata": {},
   "outputs": [
    {
     "data": {
      "text/plain": [
       "(LinearRegressionModelv2(\n",
       "   (linear_layer): Linear(in_features=1, out_features=1, bias=True)\n",
       " ),\n",
       " OrderedDict([('linear_layer.weight', tensor([[0.7645]])),\n",
       "              ('linear_layer.bias', tensor([0.8300]))]))"
      ]
     },
     "execution_count": 306,
     "metadata": {},
     "output_type": "execute_result"
    }
   ],
   "source": [
    "torch.manual_seed(42)\n",
    "model = LinearRegressionModelv2()\n",
    "\n",
    "model, model.state_dict()"
   ]
  },
  {
   "cell_type": "code",
   "execution_count": 307,
   "metadata": {},
   "outputs": [
    {
     "data": {
      "text/plain": [
       "device(type='cpu')"
      ]
     },
     "execution_count": 307,
     "metadata": {},
     "output_type": "execute_result"
    }
   ],
   "source": [
    "next(model.parameters()).device"
   ]
  },
  {
   "cell_type": "code",
   "execution_count": 308,
   "metadata": {},
   "outputs": [
    {
     "data": {
      "text/plain": [
       "device(type='cpu')"
      ]
     },
     "execution_count": 308,
     "metadata": {},
     "output_type": "execute_result"
    }
   ],
   "source": [
    "model.to(device)\n",
    "next(model.parameters()).device"
   ]
  },
  {
   "cell_type": "code",
   "execution_count": 309,
   "metadata": {},
   "outputs": [
    {
     "name": "stdout",
     "output_type": "stream",
     "text": [
      "torch.Size([40, 1]) torch.Size([40, 1])\n"
     ]
    },
    {
     "data": {
      "text/plain": [
       "tensor([[0.8600],\n",
       "        [0.8740],\n",
       "        [0.8880],\n",
       "        [0.9020],\n",
       "        [0.9160],\n",
       "        [0.9300],\n",
       "        [0.9440],\n",
       "        [0.9580],\n",
       "        [0.9720],\n",
       "        [0.9860]])"
      ]
     },
     "execution_count": 309,
     "metadata": {},
     "output_type": "execute_result"
    }
   ],
   "source": [
    "\n",
    "weight = 0.7\n",
    "bias = 0.3\n",
    "\n",
    "start = 0\n",
    "end = 1\n",
    "step = 0.02\n",
    "\n",
    "X = torch.arange(start, end, step).unsqueeze(dim = 1)\n",
    "\n",
    "y = weight * X + bias\n",
    "\n",
    "X.to(device)\n",
    "y.to(device)\n",
    "\n",
    "split_percentage = int(0.8*len(X))\n",
    "X_train , y_train = X[:split_percentage], y[:split_percentage]\n",
    "X_test,y_test = X[split_percentage:], y[split_percentage:]\n",
    "\n",
    "print(X_train.shape,y_train.shape)\n",
    "X_train.to(device)\n",
    "X_test.to(device)\n",
    "y_train.to(device)\n",
    "y_test.to(device)\n"
   ]
  },
  {
   "cell_type": "code",
   "execution_count": 310,
   "metadata": {},
   "outputs": [
    {
     "data": {
      "image/png": "[encoded data removed]",
      "text/plain": [
       "<Figure size 432x288 with 1 Axes>"
      ]
     },
     "metadata": {
      "needs_background": "light"
     },
     "output_type": "display_data"
    }
   ],
   "source": [
    "plotting(X_train,y_train)"
   ]
  },
  {
   "cell_type": "code",
   "execution_count": 311,
   "metadata": {},
   "outputs": [
    {
     "data": {
      "text/plain": [
       "[Parameter containing:\n",
       " tensor([[-0.2343]], requires_grad=True),\n",
       " Parameter containing:\n",
       " tensor([0.9186], requires_grad=True)]"
      ]
     },
     "execution_count": 311,
     "metadata": {},
     "output_type": "execute_result"
    }
   ],
   "source": [
    "model = LinearRegressionModelv2()\n",
    "list(model.parameters())"
   ]
  },
  {
   "cell_type": "code",
   "execution_count": 312,
   "metadata": {},
   "outputs": [],
   "source": [
    "loss = nn.L1Loss()\n",
    "\n",
    "optimizer = torch.optim.SGD(params = model.parameters(),lr = 0.01,momentum = 0.9)"
   ]
  },
  {
   "cell_type": "code",
   "execution_count": 313,
   "metadata": {},
   "outputs": [
    {
     "name": "stdout",
     "output_type": "stream",
     "text": [
      "Epoch: 0, Train Loss: 0.27326732873916626, Test Loss: 0.22141309082508087\n",
      "Epoch: 1, Train Loss: 0.2683817744255066, Test Loss: 0.23681099712848663\n",
      "Epoch: 2, Train Loss: 0.259763240814209, Test Loss: 0.2576124966144562\n",
      "Epoch: 3, Train Loss: 0.24901609122753143, Test Loss: 0.2825013995170593\n",
      "Epoch: 4, Train Loss: 0.23741212487220764, Test Loss: 0.31030187010765076\n",
      "Epoch: 5, Train Loss: 0.22593466937541962, Test Loss: 0.3399646282196045\n",
      "Epoch: 6, Train Loss: 0.2156098186969757, Test Loss: 0.3698141276836395\n",
      "Epoch: 7, Train Loss: 0.20701655745506287, Test Loss: 0.399100124835968\n",
      "Epoch: 8, Train Loss: 0.2004530131816864, Test Loss: 0.4264429211616516\n",
      "Epoch: 9, Train Loss: 0.1958792358636856, Test Loss: 0.4513321816921234\n",
      "Epoch: 10, Train Loss: 0.19293956458568573, Test Loss: 0.47263050079345703\n",
      "Epoch: 11, Train Loss: 0.19150637090206146, Test Loss: 0.49001893401145935\n",
      "Epoch: 12, Train Loss: 0.19086328148841858, Test Loss: 0.5032195448875427\n",
      "Epoch: 13, Train Loss: 0.190541073679924, Test Loss: 0.5119906663894653\n",
      "Epoch: 14, Train Loss: 0.19027630984783173, Test Loss: 0.516775369644165\n",
      "Epoch: 15, Train Loss: 0.1896291822195053, Test Loss: 0.517320990562439\n",
      "Epoch: 16, Train Loss: 0.18839487433433533, Test Loss: 0.5140515565872192\n",
      "Epoch: 17, Train Loss: 0.18641383945941925, Test Loss: 0.5073484182357788\n",
      "Epoch: 18, Train Loss: 0.18376073241233826, Test Loss: 0.4975549578666687\n",
      "Epoch: 19, Train Loss: 0.18050280213356018, Test Loss: 0.4849802851676941\n",
      "Epoch: 20, Train Loss: 0.17670050263404846, Test Loss: 0.4699024558067322\n",
      "Epoch: 21, Train Loss: 0.17240825295448303, Test Loss: 0.4525718092918396\n",
      "Epoch: 22, Train Loss: 0.16781997680664062, Test Loss: 0.4338650107383728\n",
      "Epoch: 23, Train Loss: 0.16324010491371155, Test Loss: 0.41391950845718384\n",
      "Epoch: 24, Train Loss: 0.15872140228748322, Test Loss: 0.39351949095726013\n",
      "Epoch: 25, Train Loss: 0.15436522662639618, Test Loss: 0.37337949872016907\n",
      "Epoch: 26, Train Loss: 0.15051816403865814, Test Loss: 0.3534734547138214\n",
      "Epoch: 27, Train Loss: 0.1469474583864212, Test Loss: 0.33445605635643005\n",
      "Epoch: 28, Train Loss: 0.14365079998970032, Test Loss: 0.3169252872467041\n",
      "Epoch: 29, Train Loss: 0.1407284140586853, Test Loss: 0.30073249340057373\n",
      "Epoch: 30, Train Loss: 0.1379343420267105, Test Loss: 0.2864396572113037\n",
      "Epoch: 31, Train Loss: 0.13518992066383362, Test Loss: 0.2738567590713501\n",
      "Epoch: 32, Train Loss: 0.13239550590515137, Test Loss: 0.2635176181793213\n",
      "Epoch: 33, Train Loss: 0.12949612736701965, Test Loss: 0.25519776344299316\n",
      "Epoch: 34, Train Loss: 0.12635675072669983, Test Loss: 0.2486952841281891\n",
      "Epoch: 35, Train Loss: 0.12300131469964981, Test Loss: 0.24382850527763367\n",
      "Epoch: 36, Train Loss: 0.11945148557424545, Test Loss: 0.24043381214141846\n",
      "Epoch: 37, Train Loss: 0.11572664976119995, Test Loss: 0.23836389183998108\n",
      "Epoch: 38, Train Loss: 0.11201728880405426, Test Loss: 0.2367817908525467\n",
      "Epoch: 39, Train Loss: 0.10830209404230118, Test Loss: 0.2356385737657547\n",
      "Epoch: 40, Train Loss: 0.10469157993793488, Test Loss: 0.23419451713562012\n",
      "Epoch: 41, Train Loss: 0.1012006402015686, Test Loss: 0.23247981071472168\n",
      "Epoch: 42, Train Loss: 0.09786860644817352, Test Loss: 0.22983451187610626\n",
      "Epoch: 43, Train Loss: 0.09460991621017456, Test Loss: 0.2263517826795578\n",
      "Epoch: 44, Train Loss: 0.09144380688667297, Test Loss: 0.22143730521202087\n",
      "Epoch: 45, Train Loss: 0.08827288448810577, Test Loss: 0.21523432433605194\n",
      "Epoch: 46, Train Loss: 0.08501903712749481, Test Loss: 0.20787158608436584\n",
      "Epoch: 47, Train Loss: 0.08169058710336685, Test Loss: 0.19946515560150146\n",
      "Epoch: 48, Train Loss: 0.07829498499631882, Test Loss: 0.19011935591697693\n",
      "Epoch: 49, Train Loss: 0.07483893632888794, Test Loss: 0.17992815375328064\n",
      "Epoch: 50, Train Loss: 0.07132850587368011, Test Loss: 0.1689760535955429\n",
      "Epoch: 51, Train Loss: 0.06776909530162811, Test Loss: 0.1573391705751419\n",
      "Epoch: 52, Train Loss: 0.0641656443476677, Test Loss: 0.14508594572544098\n",
      "Epoch: 53, Train Loss: 0.06068224459886551, Test Loss: 0.1329561173915863\n",
      "Epoch: 54, Train Loss: 0.05724021792411804, Test Loss: 0.12162411212921143\n",
      "Epoch: 55, Train Loss: 0.05391819030046463, Test Loss: 0.11101023852825165\n",
      "Epoch: 56, Train Loss: 0.05062071233987808, Test Loss: 0.10173845291137695\n",
      "Epoch: 57, Train Loss: 0.04731767624616623, Test Loss: 0.09367453306913376\n",
      "Epoch: 58, Train Loss: 0.04393225163221359, Test Loss: 0.08669769018888474\n",
      "Epoch: 59, Train Loss: 0.04047268629074097, Test Loss: 0.08069925010204315\n",
      "Epoch: 60, Train Loss: 0.03694638982415199, Test Loss: 0.07558134198188782\n",
      "Epoch: 61, Train Loss: 0.03342121094465256, Test Loss: 0.07056011259555817\n",
      "Epoch: 62, Train Loss: 0.029958998784422874, Test Loss: 0.06493905931711197\n",
      "Epoch: 63, Train Loss: 0.026587670668959618, Test Loss: 0.05877804756164551\n",
      "Epoch: 64, Train Loss: 0.023290304467082024, Test Loss: 0.051453132182359695\n",
      "Epoch: 65, Train Loss: 0.019962213933467865, Test Loss: 0.04241161793470383\n",
      "Epoch: 66, Train Loss: 0.016489868983626366, Test Loss: 0.03182516247034073\n",
      "Epoch: 67, Train Loss: 0.012915641069412231, Test Loss: 0.020517367869615555\n",
      "Epoch: 68, Train Loss: 0.009524352848529816, Test Loss: 0.010621053166687489\n",
      "Epoch: 69, Train Loss: 0.006456294097006321, Test Loss: 0.004867273382842541\n",
      "Epoch: 70, Train Loss: 0.0027996436692774296, Test Loss: 0.0021103559993207455\n",
      "Epoch: 71, Train Loss: 0.003307875944301486, Test Loss: 0.013841837644577026\n",
      "Epoch: 72, Train Loss: 0.004921090789139271, Test Loss: 0.02012830413877964\n",
      "Epoch: 73, Train Loss: 0.007075006607919931, Test Loss: 0.020125050097703934\n",
      "Epoch: 74, Train Loss: 0.008110947906970978, Test Loss: 0.018342096358537674\n",
      "Epoch: 75, Train Loss: 0.009758850559592247, Test Loss: 0.018436456099152565\n",
      "Epoch: 76, Train Loss: 0.011007477529346943, Test Loss: 0.02094290778040886\n",
      "Epoch: 77, Train Loss: 0.011228585615754128, Test Loss: 0.02489767037332058\n",
      "Epoch: 78, Train Loss: 0.010993973352015018, Test Loss: 0.028041880577802658\n",
      "Epoch: 79, Train Loss: 0.01087668165564537, Test Loss: 0.028422612696886063\n",
      "Epoch: 80, Train Loss: 0.010544005781412125, Test Loss: 0.025655925273895264\n",
      "Epoch: 81, Train Loss: 0.00961596705019474, Test Loss: 0.02005661092698574\n",
      "Epoch: 82, Train Loss: 0.008270516991615295, Test Loss: 0.013915294781327248\n",
      "Epoch: 83, Train Loss: 0.007089098449796438, Test Loss: 0.009373432025313377\n",
      "Epoch: 84, Train Loss: 0.005804475396871567, Test Loss: 0.008438700810074806\n",
      "Epoch: 85, Train Loss: 0.0037270940374583006, Test Loss: 0.00718229403719306\n",
      "Epoch: 86, Train Loss: 0.002581588923931122, Test Loss: 0.002599048661068082\n",
      "Epoch: 87, Train Loss: 0.0021308206487447023, Test Loss: 0.002068764064460993\n",
      "Epoch: 88, Train Loss: 0.005553800612688065, Test Loss: 0.007201242260634899\n",
      "Epoch: 89, Train Loss: 0.003329054219648242, Test Loss: 0.015824919566512108\n"
     ]
    }
   ],
   "source": [
    "torch.manual_seed(42)\n",
    "epochs  = 90\n",
    "epoch_set = []\n",
    "train_loss = []\n",
    "test_loss = []\n",
    "for epoch in range(epochs):\n",
    "    model.train()\n",
    "    y_preds = model(X_train)\n",
    "  \n",
    "    loss1 = loss(y_preds,y_train)\n",
    "    optimizer.zero_grad()\n",
    "    loss1.backward()\n",
    "    optimizer.step()\n",
    "    model.eval()\n",
    "    epoch_set.append(epoch)\n",
    "    train_loss.append(loss1.item())\n",
    "    with torch.inference_mode():\n",
    "        y_preds_test = model(X_test)\n",
    "        loss2 = loss(y_preds_test,y_test)\n",
    "        test_loss.append(loss2.item())\n",
    "    print(\"Epoch: {}, Train Loss: {}, Test Loss: {}\".format(epoch,loss1.item(),loss2.item()))\n",
    "    \n",
    "    \n",
    "    \n",
    "    "
   ]
  },
  {
   "cell_type": "code",
   "execution_count": 314,
   "metadata": {},
   "outputs": [
    {
     "data": {
      "image/png": "[encoded data removed]",
      "text/plain": [
       "<Figure size 432x288 with 1 Axes>"
      ]
     },
     "metadata": {
      "needs_background": "light"
     },
     "output_type": "display_data"
    }
   ],
   "source": [
    "def plot_epoch_loss(epoch,loss,color):\n",
    "    plt.plot(epoch,loss,color)\n",
    "plot_epoch_loss(epoch_set,test_loss,color = \"g--\")\n",
    "plot_epoch_loss(epoch_set,train_loss,color = \"r--\")"
   ]
  },
  {
   "cell_type": "code",
   "execution_count": 315,
   "metadata": {},
   "outputs": [
    {
     "name": "stderr",
     "output_type": "stream",
     "text": [
      "<ipython-input-315-e2eb48cfb87b>:1: UserWarning: To copy construct from a tensor, it is recommended to use sourceTensor.clone().detach() or sourceTensor.clone().detach().requires_grad_(True), rather than torch.tensor(sourceTensor).\n",
      "  y_preds = torch.tensor(y_preds).numpy()\n"
     ]
    },
    {
     "data": {
      "image/png": "[encoded data removed]",
      "text/plain": [
       "<Figure size 432x288 with 1 Axes>"
      ]
     },
     "metadata": {
      "needs_background": "light"
     },
     "output_type": "display_data"
    }
   ],
   "source": [
    "y_preds = torch.tensor(y_preds).numpy()\n",
    "plotting(X_train,y_train,predictions = y_preds)"
   ]
  },
  {
   "cell_type": "code",
   "execution_count": 316,
   "metadata": {},
   "outputs": [
    {
     "data": {
      "image/png": "[encoded data removed]",
      "text/plain": [
       "<Figure size 432x288 with 1 Axes>"
      ]
     },
     "metadata": {
      "needs_background": "light"
     },
     "output_type": "display_data"
    }
   ],
   "source": [
    "plotting(X_test, y_test,predictions = y_preds_test)"
   ]
  },
  {
   "cell_type": "code",
   "execution_count": 317,
   "metadata": {},
   "outputs": [
    {
     "data": {
      "text/plain": [
       "[Parameter containing:\n",
       " tensor([[0.6767]], requires_grad=True),\n",
       " Parameter containing:\n",
       " tensor([0.3049], requires_grad=True)]"
      ]
     },
     "execution_count": 317,
     "metadata": {},
     "output_type": "execute_result"
    }
   ],
   "source": [
    "list(model.parameters())"
   ]
  },
  {
   "cell_type": "code",
   "execution_count": 318,
   "metadata": {},
   "outputs": [],
   "source": [
    "torch.save(model,\"models/Linear_modelv2.pt\")"
   ]
  },
  {
   "cell_type": "code",
   "execution_count": 319,
   "metadata": {},
   "outputs": [],
   "source": [
    "torch.save(model.state_dict(),\"models/linear_v2_statedict.pt\")"
   ]
  },
  {
   "cell_type": "code",
   "execution_count": 320,
   "metadata": {},
   "outputs": [
    {
     "data": {
      "text/plain": [
       "OrderedDict([('linear_layer.weight', tensor([[0.6767]])),\n",
       "             ('linear_layer.bias', tensor([0.3049]))])"
      ]
     },
     "execution_count": 320,
     "metadata": {},
     "output_type": "execute_result"
    }
   ],
   "source": [
    "model.state_dict()"
   ]
  },
  {
   "attachments": {},
   "cell_type": "markdown",
   "metadata": {},
   "source": [
    "LOAD A MODEL"
   ]
  },
  {
   "cell_type": "code",
   "execution_count": 321,
   "metadata": {},
   "outputs": [
    {
     "data": {
      "text/plain": [
       "[Parameter containing:\n",
       " tensor([[0.6767]], requires_grad=True),\n",
       " Parameter containing:\n",
       " tensor([0.3049], requires_grad=True)]"
      ]
     },
     "execution_count": 321,
     "metadata": {},
     "output_type": "execute_result"
    }
   ],
   "source": [
    "model3 = LinearRegressionModelv2()\n",
    "\n",
    "model3.load_state_dict(torch.load(\"models/linear_v2_statedict.pt\"))\n",
    "\n",
    "list(model3.parameters())"
   ]
  },
  {
   "cell_type": "code",
   "execution_count": 322,
   "metadata": {},
   "outputs": [
    {
     "name": "stdout",
     "output_type": "stream",
     "text": [
      "tensor(0.0158)\n"
     ]
    }
   ],
   "source": [
    "model.eval()\n",
    "with torch.inference_mode():\n",
    "    y_pred1 = model3(X_test)\n",
    "    loss5 = loss(y_pred1, y_test)\n",
    "    print(loss5)\n",
    "    \n"
   ]
  },
  {
   "cell_type": "code",
   "execution_count": 323,
   "metadata": {},
   "outputs": [
    {
     "data": {
      "text/plain": [
       "tensor([[True],\n",
       "        [True],\n",
       "        [True],\n",
       "        [True],\n",
       "        [True],\n",
       "        [True],\n",
       "        [True],\n",
       "        [True],\n",
       "        [True],\n",
       "        [True]])"
      ]
     },
     "execution_count": 323,
     "metadata": {},
     "output_type": "execute_result"
    }
   ],
   "source": [
    "y_preds_test == y_pred1"
   ]
  },
  {
   "cell_type": "code",
   "execution_count": null,
   "metadata": {},
   "outputs": [],
   "source": []
  }
 ],
 "metadata": {
  "kernelspec": {
   "display_name": "Python 3",
   "language": "python",
   "name": "python3"
  },
  "language_info": {
   "codemirror_mode": {
    "name": "ipython",
    "version": 3
   },
   "file_extension": ".py",
   "mimetype": "text/x-python",
   "name": "python",
   "nbconvert_exporter": "python",
   "pygments_lexer": "ipython3",
   "version": "3.8.10"
  },
  "orig_nbformat": 4
 },
 "nbformat": 4,
 "nbformat_minor": 2
}
