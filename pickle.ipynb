{
 "cells": [
  {
   "cell_type": "code",
   "execution_count": 1,
   "metadata": {},
   "outputs": [
    {
     "name": "stdout",
     "output_type": "stream",
     "text": [
      "{'name': 'John', 'age': 30, 'city': 'New York'}\n"
     ]
    }
   ],
   "source": [
    "import pickle\n",
    "\n",
    "# Data to be saved\n",
    "data = {'name': 'John', 'age': 30, 'city': 'New York'}\n",
    "\n",
    "# Save data to a file\n",
    "with open('data.pkl', 'wb') as file:\n",
    "    pickle.dump(data, file)\n",
    "\n",
    "# Load data from the file\n",
    "with open('data.pkl', 'rb') as file:\n",
    "    loaded_data = pickle.load(file)\n",
    "\n",
    "print(loaded_data)  # Output: {'name': 'John', 'age': 30, 'city': 'New York'}\n"
   ]
  },
  {
   "attachments": {},
   "cell_type": "markdown",
   "metadata": {},
   "source": [
    "Pickle is a Python module used for serializing and deserializing Python objects. Serialization is the process of converting a Python object into a byte stream, which \n",
    "\n",
    "can then be saved to a file or transmitted over a network. Deserialization is the reverse process, where the byte stream is converted back into a Python object.\n",
    "\n",
    "The pickle module provides functions dump() and load() to save and load Python objects to/from files, respectively. It also offers dumps() and loads() functions to \n",
    "\n",
    "serialize and deserialize objects to/from a byte string, which can be useful for storing data in databases or transmitting data over the network.\n",
    "\n",
    "The pickle module can handle various Python objects, including basic data types (integers, floats, strings), lists, dictionaries, tuples, custom classes, and more. \n",
    "\n",
    "However, not all Python objects can be pickled. Some objects, like file handles and network connections, cannot be pickled because they depend on the running state of \n",
    "\n",
    "the program and do not have a direct representation in a byte stream."
   ]
  },
  {
   "cell_type": "code",
   "execution_count": 2,
   "metadata": {},
   "outputs": [
    {
     "name": "stdout",
     "output_type": "stream",
     "text": [
      "[1 2 3 4 5]\n"
     ]
    }
   ],
   "source": [
    "import pickle\n",
    "import numpy as np\n",
    "\n",
    "# Data to be saved\n",
    "data = np.array([1, 2, 3, 4, 5])\n",
    "\n",
    "# Save data to a file\n",
    "with open('data.pkl', 'wb') as file:\n",
    "    pickle.dump(data, file)\n",
    "\n",
    "# Load data from the file\n",
    "with open('data.pkl', 'rb') as file:\n",
    "    loaded_data = pickle.load(file)\n",
    "\n",
    "print(loaded_data)  # Output: [1 2 3 4 5]\n"
   ]
  },
  {
   "cell_type": "code",
   "execution_count": 4,
   "metadata": {},
   "outputs": [
    {
     "name": "stdout",
     "output_type": "stream",
     "text": [
      "      Name  Age      City\n",
      "0    Alice   25  New York\n",
      "1      Bob   30    London\n",
      "2  Charlie   28     Paris\n"
     ]
    }
   ],
   "source": [
    "import pickle\n",
    "import pandas as pd\n",
    "\n",
    "# Data to be saved\n",
    "data = pd.DataFrame({'Name': ['Alice', 'Bob', 'Charlie'],\n",
    "                     'Age': [25, 30, 28],\n",
    "                     'City': ['New York', 'London', 'Paris']})\n",
    "\n",
    "# Save data to a file\n",
    "with open('data.pkl', 'wb') as file:\n",
    "    pickle.dump(data, file)\n",
    "\n",
    "# Load data from the file\n",
    "with open('data.pkl', 'rb') as file:\n",
    "    loaded_data = pickle.load(file)\n",
    "\n",
    "print(loaded_data)\n",
    "# Output:\n",
    "#      Name  Age      City\n",
    "# 0   Alice   25  New York\n",
    "# 1     Bob   30    London\n",
    "# 2 Charlie   28     Paris\n"
   ]
  },
  {
   "cell_type": "code",
   "execution_count": null,
   "metadata": {},
   "outputs": [],
   "source": []
  }
 ],
 "metadata": {
  "kernelspec": {
   "display_name": "Python 3",
   "language": "python",
   "name": "python3"
  },
  "language_info": {
   "codemirror_mode": {
    "name": "ipython",
    "version": 3
   },
   "file_extension": ".py",
   "mimetype": "text/x-python",
   "name": "python",
   "nbconvert_exporter": "python",
   "pygments_lexer": "ipython3",
   "version": "3.8.10"
  },
  "orig_nbformat": 4
 },
 "nbformat": 4,
 "nbformat_minor": 2
}
