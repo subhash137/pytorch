{
 "cells": [
  {
   "cell_type": "code",
   "execution_count": 1,
   "metadata": {},
   "outputs": [],
   "source": [
    "import torch"
   ]
  },
  {
   "cell_type": "code",
   "execution_count": 2,
   "metadata": {},
   "outputs": [],
   "source": [
    "pipeline = {1 : \"data (preprocessing)\",\n",
    "            2 : \"build model\",\n",
    "            3 : \"fitting the data to model\",\n",
    "            4:\"making predictions and evaluating the model\",\n",
    "            5 : \"saving the model\",\n",
    "            6:\"putting it all together\"}"
   ]
  },
  {
   "cell_type": "code",
   "execution_count": 3,
   "metadata": {},
   "outputs": [
    {
     "data": {
      "text/plain": [
       "{1: 'data (preprocessing)',\n",
       " 2: 'build model',\n",
       " 3: 'fitting the data to model',\n",
       " 4: 'making predictions and evaluating the model',\n",
       " 5: 'saving the model',\n",
       " 6: 'putting it all together'}"
      ]
     },
     "execution_count": 3,
     "metadata": {},
     "output_type": "execute_result"
    }
   ],
   "source": [
    "pipeline"
   ]
  },
  {
   "cell_type": "code",
   "execution_count": 5,
   "metadata": {},
   "outputs": [
    {
     "data": {
      "text/plain": [
       "'2.0.1+cu117'"
      ]
     },
     "execution_count": 5,
     "metadata": {},
     "output_type": "execute_result"
    }
   ],
   "source": [
    "import torch.nn as nn  # contains all pytorch's building blocks\n",
    "import matplotlib.pyplot as plt\n",
    "\n",
    "torch.__version__"
   ]
  },
  {
   "attachments": {},
   "cell_type": "markdown",
   "metadata": {},
   "source": [
    "# DATA PREPARING AND LOADING\n",
    "\n",
    "image\n",
    "\n",
    "video\n",
    "\n",
    "dna\n",
    "\n",
    "txt\n",
    "\n",
    "csv spreadsheets\n",
    "\n",
    "audio"
   ]
  },
  {
   "cell_type": "code",
   "execution_count": 6,
   "metadata": {},
   "outputs": [
    {
     "data": {
      "text/plain": [
       "(tensor([[0.0000],\n",
       "         [0.0200],\n",
       "         [0.0400],\n",
       "         [0.0600],\n",
       "         [0.0800],\n",
       "         [0.1000],\n",
       "         [0.1200],\n",
       "         [0.1400],\n",
       "         [0.1600],\n",
       "         [0.1800]]),\n",
       " tensor([[0.3000],\n",
       "         [0.3140],\n",
       "         [0.3280],\n",
       "         [0.3420],\n",
       "         [0.3560],\n",
       "         [0.3700],\n",
       "         [0.3840],\n",
       "         [0.3980],\n",
       "         [0.4120],\n",
       "         [0.4260]]),\n",
       " 50,\n",
       " 50)"
      ]
     },
     "execution_count": 6,
     "metadata": {},
     "output_type": "execute_result"
    }
   ],
   "source": [
    "weight = 0.7\n",
    "bias = 0.3\n",
    "\n",
    "start = 0\n",
    "end = 1\n",
    "step = 0.02\n",
    "\n",
    "X = torch.arange(start, end, step).unsqueeze(dim = 1)\n",
    "\n",
    "y = weight * X + bias\n",
    "\n",
    "X[:10] , y[:10] , len(X) , len(y)"
   ]
  },
  {
   "cell_type": "code",
   "execution_count": 7,
   "metadata": {},
   "outputs": [
    {
     "data": {
      "text/plain": [
       "[<matplotlib.lines.Line2D at 0x7faa1d842550>]"
      ]
     },
     "execution_count": 7,
     "metadata": {},
     "output_type": "execute_result"
    },
    {
     "data": {
      "image/png": "[encoded data removed]",
      "text/plain": [
       "<Figure size 432x288 with 1 Axes>"
      ]
     },
     "metadata": {
      "needs_background": "light"
     },
     "output_type": "display_data"
    }
   ],
   "source": [
    "plt.plot(X[:10],y[:10])"
   ]
  },
  {
   "cell_type": "code",
   "execution_count": 13,
   "metadata": {},
   "outputs": [
    {
     "name": "stdout",
     "output_type": "stream",
     "text": [
      "CPU times: user 59 µs, sys: 23 µs, total: 82 µs\n",
      "Wall time: 83.7 µs\n"
     ]
    }
   ],
   "source": [
    "%%time\n",
    "train_split = int(0.8*len(X))\n",
    "\n",
    "X_train , y_train = X[:train_split], y[:train_split]\n",
    "X_test , y_test = X[train_split:], y[train_split:]"
   ]
  },
  {
   "cell_type": "code",
   "execution_count": 12,
   "metadata": {},
   "outputs": [
    {
     "name": "stdout",
     "output_type": "stream",
     "text": [
      "CPU times: user 16.1 ms, sys: 525 µs, total: 16.6 ms\n",
      "Wall time: 12.2 ms\n"
     ]
    },
    {
     "data": {
      "image/png": "[encoded data removed]",
      "text/plain": [
       "<Figure size 720x720 with 1 Axes>"
      ]
     },
     "metadata": {
      "needs_background": "light"
     },
     "output_type": "display_data"
    }
   ],
   "source": [
    "%%time\n",
    "def predictionss(train_data,train_labels,test_data,test_labels,predictions = None):\n",
    "    plt.figure(figsize=(10,10))\n",
    "    plt.scatter(train_data,train_labels,c =\"b\",label = \"Training data\")\n",
    "    plt.scatter(test_data,test_labels,c =\"g\",label = \"Test data\")\n",
    "    if predictions is not None:\n",
    "        plt.scatter(test_data,predictions,c =\"r\",label = \"predictions\")\n",
    "        \n",
    "predictionss(X_train,y_train,X_test,y_test)"
   ]
  },
  {
   "attachments": {},
   "cell_type": "markdown",
   "metadata": {},
   "source": [
    "start with random values \n",
    "\n",
    "look at trianing values and adjust the parameters accordingly to get closer to ideal weights and bias\n",
    "\n",
    "\n",
    "by gradient descent \n",
    "   back propagation\n",
    "\n",
    "\n",
    "requires _grad = true \n",
    "\n",
    "pytorch will track the gradients of the specific parameters for use with torch.autograd and gradient descent for many torch.nn modules it is set by default true\n",
    "\n",
    "it will remember the differentiation operations and through back propagation it updates weights and bias"
   ]
  },
  {
   "attachments": {},
   "cell_type": "markdown",
   "metadata": {},
   "source": [
    "The call to super().__init__() inside the __init__ method is used to ensure that the initialization defined in the parent class (if any) is executed before the specific initialization of the subclass. This way, the subclass can benefit from the attributes and behavior defined in the parent class."
   ]
  },
  {
   "cell_type": "code",
   "execution_count": 14,
   "metadata": {},
   "outputs": [],
   "source": [
    "class LinearregressionModel(nn.Module):  # almost everything inherits from pytorch\n",
    "    # base class for all neural network models\n",
    "    def __init__(self):\n",
    "        super().__init__()\n",
    "        self.weights = nn.Parameter(torch.randn(1,requires_grad=True,dtype=torch.float32))\n",
    "        self.bias = nn.Parameter(torch.randn(1,requires_grad=True,dtype=torch.float32))\n",
    "    def forward(self,  x : torch.Tensor) -> torch.Tensor:  # x is the innput data for the model \n",
    "        return self.weights*x + self.bias \n",
    "        \n",
    "        \n",
    "        # any subclass of forward function overrides the forward function in nn module \n",
    "        "
   ]
  },
  {
   "attachments": {},
   "cell_type": "markdown",
   "metadata": {},
   "source": [
    "Computational graphs are also called has neural networks\n",
    "\n",
    "nn.parameter is also a torch layer"
   ]
  },
  {
   "attachments": {},
   "cell_type": "markdown",
   "metadata": {},
   "source": [
    "nn.Parameter is a specific class in PyTorch's torch.nn module used for defining learnable parameters within neural network models.\n",
    "When you use nn.Parameter, you are explicitly declaring that the tensor is a model parameter, and it will be registered as part of the model's parameters. These parameters are the ones that will be updated during the training process when gradients are calculated and backpropagation is performed.\n",
    "In this case, torch.rand(1) generates a random tensor of shape (1,) with values between 0 and 1. Since it is wrapped in nn.Parameter, it becomes a learnable parameter of the model with requires_grad set to True, meaning it will be optimized during training.\n",
    "nn.Parameter objects are often used when you define custom neural network models and want to manually specify some of the model's parameters."
   ]
  },
  {
   "cell_type": "code",
   "execution_count": 15,
   "metadata": {},
   "outputs": [],
   "source": [
    "# torch.optim"
   ]
  },
  {
   "cell_type": "code",
   "execution_count": null,
   "metadata": {},
   "outputs": [],
   "source": []
  }
 ],
 "metadata": {
  "kernelspec": {
   "display_name": "Python 3",
   "language": "python",
   "name": "python3"
  },
  "language_info": {
   "codemirror_mode": {
    "name": "ipython",
    "version": 3
   },
   "file_extension": ".py",
   "mimetype": "text/x-python",
   "name": "python",
   "nbconvert_exporter": "python",
   "pygments_lexer": "ipython3",
   "version": "3.8.10"
  },
  "orig_nbformat": 4
 },
 "nbformat": 4,
 "nbformat_minor": 2
}
